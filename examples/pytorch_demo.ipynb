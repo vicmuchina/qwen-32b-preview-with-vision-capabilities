
{
    "cells": [
     {
      "cell_type": "code",
      "execution_count": null,
      "metadata": {},
      "outputs": [],
      "source": [
       "import torch; import torchvision as tv"
      ]
     },
     {
      "cell_type": "code",
      "execution_count": null,
      "metadata": {},
      "outputs": [],
      "source": [
       "dataset = tv.datasets.CIFAR10(\"data\", download=True, train=True, transform=tv.transforms.ToTensor())\n",
       "\n",
       "model = tv.models.resnet18()\n",
       "optimizer = torch.optim.SGD(model.parameters(), lr=0.001)\n",
       "device = \"cuda\" if torch.cuda.is_available() else \"cpu\"\n",
       "model.to(device)\n",
       "\n",
       "dataloader = torch.utils.data.DataLoader(dataset, batch_size=8)"
      ]
     },
     {
      "cell_type": "code",
      "execution_count": null,
      "metadata": {},
      "outputs": [],
      "source": [
       "model.train()\n",
       "num_epochs = 10\n",
       "for epoch in range(num_epochs):\n",
       "    for batch in dataloader:\n",
       "        inputs, labels = batch\n",
       "        inputs, labels = inputs.to(device), labels.to(device)\n",
       "        optimizer.zero_grad()\n",
       "        outputs = model(inputs)\n",
       "        loss = torch.nn.functional.cross_entropy(outputs, labels)\n",
       "        loss.backward()\n",
       "        optimizer.step()\n",
       "        print(loss.data)"
      ]
     }
    ],
    "metadata": {
     "kernelspec": {
      "display_name": "Python 3",
      "language": "python",
      "name": "python3"
     },
     "language_info": {
      "codemirror_mode": {
       "name": "ipython",
       "version": 3
      },
      "file_extension": ".py",
      "mimetype": "text/x-python",
      "name": "python",
      "nbconvert_exporter": "python",
      "pygments_lexer": "ipython3",
      "version": "3.10.11"
     },
     "orig_nbformat": 4
    },
    "nbformat": 4,
    "nbformat_minor": 2
   }
